{
 "cells": [
  {
   "cell_type": "markdown",
   "metadata": {},
   "source": [
    "# Cole-Cole\n",
    "\n",
    "There are various different definitions of a cole-cole model, see for instance Tarasov and Titov (2013). We try two different ones here, but you can supply your preferred version.\n",
    "\n",
    "One model is given by Cole and Cole (1941),\n",
    "\n",
    "$$\n",
    "\\sigma^* = \\sigma_\\infty + \\frac{\\sigma_0 - \\sigma_\\infty}{1 + (i\\omega\\tau)^c}\\ .\n",
    "$$\n",
    "\n",
    "Another one by Pelton et al. (1978),\n",
    "\n",
    "$$\n",
    "\\rho^* = \\rho_\\infty + \\frac{\\rho_0 - \\rho_\\infty}{1 + (i\\omega\\tau)^c}\\ .\n",
    "$$\n",
    "\n",
    "\n",
    "The second one just is like the first one, but replaces $\\sigma$ by $\\rho$. However, mathematically they are not the same. Substituting $rho = 1/\\sigma$ in the second equation and resolving it for $\\sigma$ will not yield the first equation.\n",
    "\n",
    "In both cases we add the the part coming form displacement currents.\n",
    "\n",
    "## WARNING\n",
    "\n",
    "This is work in progress and might change anytime. **It is not working with the stable release of empymod**. You have to use the branch [cole-cole](https://github.com/empymod/empymod/tree/cole-cole).\n",
    "\n",
    "### References\n",
    "\n",
    "**Cole, K.S., and R.H. Cole, 1941**, Dispersion and adsorption in dielectrics. I. Alternating current characteristics; *Journal of Chemical Physics*, Volume 9, Pages 341-351, doi: [10.1063/1.1750906](https://doi.org/10.1063/1.1750906).\n",
    "\n",
    "**Pelton, W.H., S.H. Ward, P.G. Hallof, W.R. Sill, and P.H. Nelson, 1978**, Mineral discrimination and removal of inductive coupling with multifrequency IP, *Geophysics*, Volume 43, Pages 588-609, doi: [10.1190/1.1440839](https://doi.org/10.1190/1.1440839).\n",
    "\n",
    "**Tarasov, A., and K. Titov, 2013**, On the use of the Cole–Cole equations in spectral induced polarization; *Geophysical Journal International*, Volume 195, Issue 1, Pages 352-356, doi: [10.1093/gji/ggt251](https://doi.org/10.1093/gji/ggt251)."
   ]
  },
  {
   "cell_type": "code",
   "execution_count": 1,
   "metadata": {},
   "outputs": [],
   "source": [
    "import numpy as np\n",
    "import matplotlib.pyplot as plt\n",
    "\n",
    "from empymod import bipole, versions\n",
    "from empymod.utils import _check_var"
   ]
  },
  {
   "cell_type": "markdown",
   "metadata": {},
   "source": [
    "## Define the Cole-Cole model\n",
    "\n",
    "We define our models here which we will feed to `empymod.dipole` or `empymod.bipole`. You have to leave the input signature `function_name(cond, freq, aniso, etaH, etaV)` and the output signature `return etaH, etaV` unchanged, but everything else you can adjust to your needs.\n",
    "\n",
    "By default, `etaH`/`etaV` are calculated like this:\n",
    "    \n",
    "    etaH = 1/res + 2j*np.pi*freq*epermH*epsilon_0\n",
    "    etaV = 1/(res*aniso**2) + 2j*np.pi*freq*epermV*epsilon_0\n",
    "\n",
    "With this function we recalculate it. We replace the real part, the conductivity, by a complex, frequency-dependent conductivity. Then we add back the imaginary part coming from eperm (basically zero for low frequencies)."
   ]
  },
  {
   "cell_type": "code",
   "execution_count": 2,
   "metadata": {},
   "outputs": [],
   "source": [
    "def cole_cole(cond, freq, aniso, etaH, etaV):\n",
    "    \"\"\"Cole and Cole (1941).\"\"\"   \n",
    "    # Get required variables from cond, check them.\n",
    "    cond_0 = _check_var(cond['cond_0'], float, 1, 'cond_0', etaH[0, :].shape)\n",
    "    cond_8 = _check_var(cond['cond_8'], float, 1, 'cond_8', cond_0.shape)\n",
    "    tau = _check_var(cond['tau'], float, 1, 'cond_tau', cond_0.shape)\n",
    "    c = _check_var(cond['c'], float, 1, 'cond_c', cond_0.shape)\n",
    "\n",
    "    # Calculate complex conductivity from cole-cole\n",
    "    iomega = 2j*np.pi*freq\n",
    "    condH = cond_8 + (cond_0-cond_8)/(1 + np.outer(iomega, tau)**c)\n",
    "    condV = condH/aniso**2\n",
    "\n",
    "    # Add electric permittivity\n",
    "    etaH = condH + 1j*etaH.imag\n",
    "    etaV = condV + 1j*etaV.imag\n",
    "\n",
    "    return etaH, etaV\n",
    "\n",
    "def pelton_et_al(cond, freq, aniso, etaH, etaV):\n",
    "    \"\"\" Pelton et al. (1978).\"\"\"\n",
    "    # Get required variables from cond, check them.\n",
    "    rho_0 = _check_var(cond['rho_0'], float, 1, 'cond_0', etaH[0, :].shape)\n",
    "    rho_8 = _check_var(cond['rho_8'], float, 1, 'cond_8', rho_0.shape)\n",
    "    tau = _check_var(cond['tau'], float, 1, 'cond_tau', rho_0.shape)\n",
    "    c = _check_var(cond['c'], float, 1, 'cond_c', rho_0.shape)\n",
    "\n",
    "    # Calculate complex conductivity from cole-cole\n",
    "    iomega = 2j*np.pi*freq\n",
    "    rhoH = rho_8 + (rho_0-rho_8)/(1 + np.outer(iomega, tau)**c)\n",
    "    rhoV = rhoH*aniso**2\n",
    "\n",
    "    # Add electric permittivity\n",
    "    etaH = 1/rhoH + 1j*etaH.imag\n",
    "    etaV = 1/rhoV + 1j*etaV.imag\n",
    "\n",
    "    return etaH, etaV"
   ]
  },
  {
   "cell_type": "markdown",
   "metadata": {},
   "source": [
    "## Example"
   ]
  },
  {
   "cell_type": "code",
   "execution_count": 3,
   "metadata": {},
   "outputs": [
    {
     "name": "stdout",
     "output_type": "stream",
     "text": [
      "\n",
      ":: empymod END; runtime = 0:00:00.041696 :: 1 kernel call(s)\n",
      "\n",
      "\n",
      ":: empymod END; runtime = 0:00:00.066854 :: 1 kernel call(s)\n",
      "\n",
      "\n",
      ":: empymod END; runtime = 0:00:00.062177 :: 1 kernel call(s)\n",
      "\n"
     ]
    },
    {
     "data": {
      "image/png": "[encoded data removed]",
      "text/plain": [
       "<Figure size 432x288 with 1 Axes>"
      ]
     },
     "metadata": {
      "needs_background": "light"
     },
     "output_type": "display_data"
    }
   ],
   "source": [
    "# Times\n",
    "times = np.logspace(-2, 2, 101)\n",
    "\n",
    "# Model parameter\n",
    "model = {\n",
    "    'src': [0, 0, 1e-5, 0, 0],\n",
    "    'rec': [500, 0, 1e-5, 0, 0],\n",
    "    'depth': 0,\n",
    "    'epermH': [0, 1],  # To improve early times in land CSEM\n",
    "    'epermV': [0, 1],  # (diffusive approximation for airwave)\n",
    "    'freqtime': times,\n",
    "    'signal': 1,\n",
    "}\n",
    "\n",
    "# Resistivity (for regular bipole-result)\n",
    "res = np.array([2e14, 10])\n",
    "res2 = np.array([2e14, 5])\n",
    "\n",
    "# Define `cond`, it MUST contain two entries:\n",
    "# - 'res': Used to calculate regular etaH, etaV\n",
    "# - 'func': The Cole-Cole function\n",
    "# Aditionally all parameters you use in `func`.\n",
    "\n",
    "# For Cole and Cole\n",
    "cond = {\n",
    "    'res': res,\n",
    "    'cond_0': 1/res, # cond_0  (we take the inverse of res here)\n",
    "    'cond_8': 1/res2,\n",
    "    'tau': [1, 1],\n",
    "    'c': [1, 1],\n",
    "    'func': cole_cole\n",
    "}\n",
    "\n",
    "# For Pelton et al\n",
    "rho = {\n",
    "    'res': res,\n",
    "    'rho_0': res, # rho_0  (we take the inverse of res here)\n",
    "    'rho_8': res2,\n",
    "    'tau': [1, 1],\n",
    "    'c': [1, 1],\n",
    "    'func': pelton_et_al\n",
    "}\n",
    "\n",
    "out_dip = bipole(res=[2e14, 10], **model)\n",
    "out_cole = bipole(res=cond, **model)\n",
    "out_pelton = bipole(res=rho, **model)\n",
    "\n",
    "plt.figure()\n",
    "plt.plot(times, out_dip, '-', label='Begular bipole')\n",
    "plt.plot(times, out_cole, '--', label='Cole and Cole (1941)')\n",
    "plt.plot(times, out_pelton, ':', label='Pelton et al. (1978)')\n",
    "plt.legend()\n",
    "plt.yscale('log')\n",
    "plt.xscale('log')\n",
    "plt.xlabel('time (s)')\n",
    "plt.show()"
   ]
  },
  {
   "cell_type": "code",
   "execution_count": 4,
   "metadata": {},
   "outputs": [
    {
     "data": {
      "text/html": [
       "<table style='border: 3px solid #ddd;'>\n",
       "  <tr>\n",
       "     <td style='text-align: center; font-weight: bold; font-size: 1.2em; border: 2px solid #fff;' colspan='8'>Thu Oct 25 16:51:22 2018 CDT</td>\n",
       "  </tr>\n",
       "  <tr>\n",
       "    <td style='text-align: right; background-color: #ccc; border: 2px solid #fff;'>Linux</td>\n",
       "    <td style='text-align: left; border: 2px solid #fff;'>OS</td>\n",
       "    <td style='text-align: right; background-color: #ccc; border: 2px solid #fff;'>4</td>\n",
       "    <td style='text-align: left; border: 2px solid #fff;'>CPU(s)</td>\n",
       "    <td style='text-align: right; background-color: #ccc; border: 2px solid #fff;'>1.15.3</td>\n",
       "    <td style='text-align: left; border: 2px solid #fff;'>numpy</td>\n",
       "    <td style='text-align: right; background-color: #ccc; border: 2px solid #fff;'>1.1.0</td>\n",
       "    <td style='text-align: left; border: 2px solid #fff;'>scipy</td>\n",
       "  </tr>\n",
       "  <tr>\n",
       "    <td style='text-align: right; background-color: #ccc; border: 2px solid #fff;'>1.7.4.dev0</td>\n",
       "    <td style='text-align: left; border: 2px solid #fff;'>empymod</td>\n",
       "    <td style='text-align: right; background-color: #ccc; border: 2px solid #fff;'>7.0.1</td>\n",
       "    <td style='text-align: left; border: 2px solid #fff;'>IPython</td>\n",
       "    <td style='text-align: right; background-color: #ccc; border: 2px solid #fff;'>2.6.8</td>\n",
       "    <td style='text-align: left; border: 2px solid #fff;'>numexpr</td>\n",
       "    <td style='text-align: right; background-color: #ccc; border: 2px solid #fff;'>3.0.1</td>\n",
       "    <td style='text-align: left; border: 2px solid #fff;'>matplotlib</td>\n",
       "  </tr>\n",
       "  <tr>\n",
       "     <td style='text-align: center; border: 2px solid #fff;' colspan='8'>3.6.6 |Anaconda custom (64-bit)| (default, Oct  9 2018, 12:34:16) \n",
       "[GCC 7.3.0]</td>\n",
       "  </tr>\n",
       "  <tr>\n",
       "     <td style='text-align: center; background-color: #ddd;border: 2px solid #fff;' colspan='8'>Intel(R) Math Kernel Library Version 2019.0.0 Product Build 20180829 for Intel(R) 64 architecture applications</td>\n",
       "  </tr>\n",
       "</table>"
      ],
      "text/plain": [
       "<IPython.core.display.HTML object>"
      ]
     },
     "execution_count": 4,
     "metadata": {},
     "output_type": "execute_result"
    }
   ],
   "source": [
    "versions('HTML')"
   ]
  }
 ],
 "metadata": {
  "kernelspec": {
   "display_name": "Python 3",
   "language": "python",
   "name": "python3"
  },
  "language_info": {
   "codemirror_mode": {
    "name": "ipython",
    "version": 3
   },
   "file_extension": ".py",
   "mimetype": "text/x-python",
   "name": "python",
   "nbconvert_exporter": "python",
   "pygments_lexer": "ipython3",
   "version": "3.6.6"
  }
 },
 "nbformat": 4,
 "nbformat_minor": 2
}
